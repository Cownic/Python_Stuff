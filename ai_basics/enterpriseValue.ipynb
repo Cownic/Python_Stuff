{
 "cells": [
  {
   "cell_type": "code",
   "execution_count": 7,
   "metadata": {},
   "outputs": [
    {
     "name": "stdout",
     "output_type": "stream",
     "text": [
      "Enteprise Value: 86.93582353988057\n"
     ]
    }
   ],
   "source": [
    "# AI-1 : Singular Output \n",
    "# Our goal is to create a AI that will help us to compute the value of an asset based on the NPV\n",
    "import numpy as np\n",
    "FCF = 100\n",
    "r = 0.04\n",
    "T = 3.5\n",
    "\n",
    "def value_cal(FCF, r, T):\n",
    "    #FCF -> Free Cash Flow\n",
    "    # r -> interest rate\n",
    "    # T -> Period of Loan\n",
    "    return FCF*np.exp(-r*T)\n",
    "\n",
    "print(\"Enteprise Value: {}\".format(value_cal(FCF,r, T)))"
   ]
  },
  {
   "cell_type": "code",
   "execution_count": 14,
   "metadata": {},
   "outputs": [
    {
     "name": "stdout",
     "output_type": "stream",
     "text": [
      "Ent_Value: 89.70986735046947\n"
     ]
    }
   ],
   "source": [
    "# AI-2 : List Computation of the values\n",
    "# We give a series of cash flow and discount rate\n",
    "# AI computes the value for us\n",
    "\n",
    "fcf_list = [10,100,-50,40]\n",
    "DISCOUNT_RATE = 0.05\n",
    "\n",
    "\n",
    "\n",
    "def ent_value(FCF_list, r):\n",
    "    result = 0\n",
    "    z = 1 # pick time of cash flow\n",
    "    for i in range(len(fcf_list)):\n",
    "        result += fcf_list[i]*np.exp(-DISCOUNT_RATE * z)\n",
    "        z+=1  \n",
    "    return result\n",
    "\n",
    "print(\"Ent_Value: {}\".format(ent_value(fcf_list, DISCOUNT_RATE)))\n",
    "\n"
   ]
  },
  {
   "cell_type": "code",
   "execution_count": null,
   "metadata": {},
   "outputs": [],
   "source": []
  }
 ],
 "metadata": {
  "kernelspec": {
   "display_name": "Python 3",
   "language": "python",
   "name": "python3"
  },
  "language_info": {
   "codemirror_mode": {
    "name": "ipython",
    "version": 3
   },
   "file_extension": ".py",
   "mimetype": "text/x-python",
   "name": "python",
   "nbconvert_exporter": "python",
   "pygments_lexer": "ipython3",
   "version": "3.11.2"
  },
  "orig_nbformat": 4
 },
 "nbformat": 4,
 "nbformat_minor": 2
}
