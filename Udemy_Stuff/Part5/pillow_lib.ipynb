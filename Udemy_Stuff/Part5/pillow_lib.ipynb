{
 "cells": [
  {
   "cell_type": "code",
   "execution_count": 2,
   "metadata": {},
   "outputs": [],
   "source": [
    "# importing Python Imaging Library\n",
    "import PIL"
   ]
  },
  {
   "cell_type": "code",
   "execution_count": 3,
   "metadata": {},
   "outputs": [
    {
     "data": {
      "text/plain": [
       "'9.5.0'"
      ]
     },
     "execution_count": 3,
     "metadata": {},
     "output_type": "execute_result"
    }
   ],
   "source": [
    "PIL.__version__ # Check the version of the library using version attribute"
   ]
  },
  {
   "cell_type": "code",
   "execution_count": null,
   "metadata": {},
   "outputs": [],
   "source": [
    "help(PIL) # return the bulit-in documentation of the object\n",
    "dir(PIL) # will list the contents of an object"
   ]
  },
  {
   "cell_type": "code",
   "execution_count": null,
   "metadata": {},
   "outputs": [],
   "source": [
    "from PIL import Image # Import the Image Object\n",
    "help(Image)\n",
    "help(Image.open)"
   ]
  },
  {
   "cell_type": "code",
   "execution_count": null,
   "metadata": {},
   "outputs": [],
   "source": [
    "file = file_path\n",
    "image = Image.open(file)\n",
    "print(image) # return a PIL.Image.Image object"
   ]
  },
  {
   "cell_type": "code",
   "execution_count": null,
   "metadata": {},
   "outputs": [],
   "source": [
    "import inspect\n",
    "print(\"The type of image is \" + str(type(image))) # return the image type\n",
    "inspect.getmro(type(image)) # show us the inheritance"
   ]
  },
  {
   "cell_type": "code",
   "execution_count": null,
   "metadata": {},
   "outputs": [],
   "source": [
    "image.show() # show tries to show it locally to you, so it will not work on remote server\n",
    "\n",
    "from IPython.display import display # allow us to display the image remotely on the server\n",
    "display(image) "
   ]
  },
  {
   "attachments": {},
   "cell_type": "markdown",
   "metadata": {},
   "source": [
    "COMMON FUNCTIONS IN THE PYTHON IMAGING LIBRARY"
   ]
  },
  {
   "cell_type": "code",
   "execution_count": null,
   "metadata": {},
   "outputs": [],
   "source": [
    "# First, lets import the PIL library and the Image object\n",
    "import PIL\n",
    "from PIL import Image\n",
    "# And lets import the display functionality\n",
    "from IPython.display import display\n",
    "# And finally, lets load the image we were working with last time\n",
    "file=\"readonly/msi_recruitment.gif\"\n",
    "image=Image.open(file)"
   ]
  },
  {
   "cell_type": "code",
   "execution_count": null,
   "metadata": {},
   "outputs": [],
   "source": [
    "# Great, now lets check out a few more methods of the image library. First, we'll look at copy\n",
    "# And if you remember, we can do this using the built in python help() function\n",
    "help(image.copy)"
   ]
  },
  {
   "cell_type": "code",
   "execution_count": null,
   "metadata": {},
   "outputs": [],
   "source": [
    "# We can see that copy takes no arguments, and that the return object is an Image object itself. Now lets\n",
    "# look at save\n",
    "help(image.save)"
   ]
  },
  {
   "cell_type": "code",
   "execution_count": null,
   "metadata": {},
   "outputs": [],
   "source": [
    "# The save method has a couple of parameters which are interesting. The first, called fp, is the filename\n",
    "# we want to save the object too. The second, format, is interesting, it allows us to change the type of\n",
    "# the image, but the docs tell us that this should be done automatically by looking at the file extension\n",
    "# as well. Lets give it a try -- this file was originally a GifImageFile, but I bet if we save it with a\n",
    "# .png format and read it in again we'll get a different kind of file\n",
    "image.save(\"msi_recruitment.png\")\n",
    "image=Image.open(\"msi_recruitment.png\")\n",
    "import inspect\n",
    "inspect.getmro(type(image))"
   ]
  },
  {
   "cell_type": "code",
   "execution_count": null,
   "metadata": {},
   "outputs": [],
   "source": [
    "from PIL import ImageFilter\n",
    "help(ImageFilter)\n",
    "\n",
    "# There are a bunch of different filters here, but lets just try and apply the BLUR filter. Before we do this\n",
    "# we have to convert the image to RGB mode. This is a bit magical -- images like gifs are limited in how many\n",
    "# colors can be displayed at once based on the size of the pallet. This is similar to a painters pallet, which\n",
    "# only has so much room. This is actually a very old image file format. If we convert the image into something\n",
    "# more sophisticated we can apply these interesting image transforms. Sometimes learning a new library means\n",
    "# digging a bit deeper into the domain the library is about. We can convert the image using the convert()\n",
    "# function.\n",
    "image=image.convert('RGB') # this stands for red, green blue mode\n",
    "blurred_image=image.filter(PIL.ImageFilter.BLUR)\n",
    "display(blurred_image)"
   ]
  },
  {
   "cell_type": "code",
   "execution_count": null,
   "metadata": {},
   "outputs": [],
   "source": [
    "print(\"{}x{}\".format(image.width, image.height)) # return the height and width of the image"
   ]
  },
  {
   "cell_type": "code",
   "execution_count": null,
   "metadata": {},
   "outputs": [],
   "source": [
    "display(image.crop((50,0,190,150))) \n",
    "from PIL import ImageDraw\n",
    "drawing_object=ImageDraw.Draw(image)\n",
    "drawing_object.rectangle((50,0,190,150), fill = None, outline ='red')\n",
    "display(image)"
   ]
  },
  {
   "cell_type": "code",
   "execution_count": null,
   "metadata": {},
   "outputs": [],
   "source": [
    "import PIL\n",
    "from PIL import Image\n",
    "from IPython.display import display\n",
    "\n",
    "# And lets load the image we were working, and we can just convert it to RGB inline\n",
    "file=\"readonly/msi_recruitment.gif\"\n",
    "image=Image.open(file).convert('RGB')\n",
    "\n",
    "display(image)"
   ]
  },
  {
   "cell_type": "code",
   "execution_count": null,
   "metadata": {},
   "outputs": [],
   "source": [
    "# A task that is fairly common in image and picture manipulation is to create contact sheets of images.\n",
    "# A contact sheet is one image that actually contains several other different images. Lets try and make\n",
    "# a contact sheet for the Master of Science in Information advertisment image. In particular, lets change\n",
    "# the brightness of the image in ten different ways, then scale the image down smaller, and put them side\n",
    "# by side so we can get the sense of which brightness we might want to use.\n",
    "#\n",
    "# First up, lets import the ImageEnhance module, which has a nice object called Brightness\n",
    "from PIL import ImageEnhance\n",
    "# Checking the online documentation for this function, it takes a value between 0.0 (a completely black\n",
    "# image) and 1.0 (the original image) to adjust the brightness. All of the classes in the ImageEnhance module\n",
    "# do this the same way, you create an object, in this case Brightness, then you call the enhance function()\n",
    "# on that object with an appropriate parameter.\n",
    "#\n",
    "# Lets write a little loop to generate ten images of different brightness. First we need the Brightness\n",
    "# object with our image\n",
    "enhancer=ImageEnhance.Brightness(image)\n",
    "images=[]\n",
    "for i in range(0, 10):\n",
    "    # We'll divide i by ten to get the decimal value we want, and append it to the images list\n",
    "    # we actually call the brightness routine by calling the enhance() function. Remember, you can dig into\n",
    "    # details of this using the help() function, or by consulting web docs\n",
    "    images.append(enhancer.enhance(i/10))\n",
    "# We can see the result here is a list of ten PIL.Image.Image objects. Jupyter nicely prints out the value\n",
    "# of python objects nested in lists\n",
    "print(images)"
   ]
  },
  {
   "cell_type": "code",
   "execution_count": null,
   "metadata": {},
   "outputs": [],
   "source": [
    "# The new function requires that we pass it a mode. We're going to use the mode 'RGB' which stands for\n",
    "# Red, Green, and Blue, and is the mode of our current first image. There are lots of different image mode\n",
    "# formats, and this one is most common.\n",
    "# For the size we have a tuple, which is the width of the image and the height. We'll use the width of our\n",
    "# current first image, but for the height we'll multiple this by ten. This will make a sort of \"canvas\" for\n",
    "# our contact sheet. Finally, the color is optional, and we'll just leave it at black.\n",
    "first_image=images[0]\n",
    "from PIL import Image\n",
    "contact_sheet=PIL.Image.new(first_image.mode, (first_image.width,10*first_image.height))\n",
    "\n",
    "# So now we have a black image that's ten times the size of the other images in the contact_sheet\n",
    "# variable. Now lets just loop through the image list and paste() the results in. The paste() function\n",
    "# will be called on the contact_sheet object, and takes in a new image to paste, as well as an (x,y)\n",
    "# offset for that image. In our case, the x position is always 0, but the y location will change by\n",
    "# 450 pixels each time we iterate through the loop.\n",
    "#\n",
    "# Lets first create a counter variable for the y location. It will start at zero\n",
    "current_location = 0\n",
    "for img in images:\n",
    "    # Lets paste the current image into the contact sheet\n",
    "    contact_sheet.paste(img, (0, current_location) )\n",
    "    # And update the current_location counter\n",
    "    current_location=current_location+450\n",
    "\n",
    "# This contact sheet has gotten big: 4,500 pixels tall! Lets just resize this sheet for display. We can do\n",
    "# this using the resize() function. This function just takes a tuple of width and height, and we'll resize\n",
    "# everything down to the size of just two individual images\n",
    "contact_sheet = contact_sheet.resize((160,900) )\n",
    "# Now lets just display that composite image\n",
    "display(contact_sheet)"
   ]
  },
  {
   "cell_type": "code",
   "execution_count": null,
   "metadata": {},
   "outputs": [],
   "source": [
    "# Ok, that's a nice proof of concept. But it's a little tough to see. Lets instead change this to a three\n",
    "# by three grid of values. First thing we should do is make our canvas, and we'll make it 3 times the\n",
    "# width of our image and 3 times the height of our image - a nine image square\n",
    "contact_sheet=PIL.Image.new(first_image.mode, (first_image.width*3,first_image.height*3))\n",
    "# Now we want to iterate over our images and place them into this grid. Remember that in PIL we manage the\n",
    "# location of where we refer to as an image in the upper right hand corner, so this will be 0,0. Lets use\n",
    "# one variable for the X dimension, and one for the Y dimension.\n",
    "x=0\n",
    "y=0\n",
    "\n",
    "# Now, lets iterate over our images. Except, we don't want to both with the first one, because it is\n",
    "# just solid black. Instead we want to just deal with the images after the first one, and that should\n",
    "# give us nine in total\n",
    "for img in images[1:]:\n",
    "    # Lets paste the current image into the contact sheet\n",
    "    contact_sheet.paste(img, (x, y) )\n",
    "    # Now we update our X position. If it is going to be the width of the image, then we set it to 0\n",
    "    # and update Y as well to point to the next \"line\" of the contact sheet.\n",
    "    if x+first_image.width == contact_sheet.width:\n",
    "        x=0\n",
    "        y=y+first_image.height\n",
    "    else:\n",
    "        x=x+first_image.width\n",
    "\n",
    "# Now lets resize the contact sheet. We'll just make it half the size by dividing it by two. And, because\n",
    "# the resize function needs to take round numbers, we need to convert our divisions from floating point\n",
    "# numbers into integers using the int() function.\n",
    "contact_sheet = contact_sheet.resize((int(contact_sheet.width/2),int(contact_sheet.height/2) ))\n",
    "# Now lets display that composite image\n",
    "display(contact_sheet)"
   ]
  },
  {
   "cell_type": "code",
   "execution_count": null,
   "metadata": {},
   "outputs": [],
   "source": []
  }
 ],
 "metadata": {
  "kernelspec": {
   "display_name": "Python 3",
   "language": "python",
   "name": "python3"
  },
  "language_info": {
   "codemirror_mode": {
    "name": "ipython",
    "version": 3
   },
   "file_extension": ".py",
   "mimetype": "text/x-python",
   "name": "python",
   "nbconvert_exporter": "python",
   "pygments_lexer": "ipython3",
   "version": "3.10.8"
  },
  "orig_nbformat": 4
 },
 "nbformat": 4,
 "nbformat_minor": 2
}
